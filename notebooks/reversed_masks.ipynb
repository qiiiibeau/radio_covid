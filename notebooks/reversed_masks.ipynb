{
  "cells": [
    {
      "cell_type": "code",
      "execution_count": null,
      "metadata": {
        "id": "Fa2of871Jf4P"
      },
      "outputs": [],
      "source": []
    },
    {
      "cell_type": "markdown",
      "metadata": {
        "id": "XkjyfBgGmD2a"
      },
      "source": [
        "# Set up "
      ]
    },
    {
      "cell_type": "code",
      "execution_count": null,
      "metadata": {
        "id": "xWakWyoJJ5uv"
      },
      "outputs": [],
      "source": [
        "import os\n",
        "import random\n",
        "import json\n",
        "import time\n",
        "\n",
        "import numpy as np\n",
        "import pandas as pd\n",
        "import matplotlib.pyplot as plt\n",
        "%matplotlib inline\n",
        "\n",
        "from skimage.io import imread, imshow\n",
        "from skimage.transform import resize\n",
        "\n",
        "from sklearn.model_selection import train_test_split\n",
        "from sklearn.decomposition import PCA"
      ]
    },
    {
      "cell_type": "code",
      "execution_count": null,
      "metadata": {
        "colab": {
          "base_uri": "https://localhost:8080/"
        },
        "id": "g9KYYuswKfvk",
        "outputId": "05dd22b8-a2c3-4420-a1bb-4af20b95164b"
      },
      "outputs": [
        {
          "output_type": "stream",
          "name": "stdout",
          "text": [
            "Mounted at /content/gdrive/\n"
          ]
        }
      ],
      "source": [
        "# authorize access to google drive\n",
        "from google.colab import drive\n",
        "drive.mount('/content/gdrive/', force_remount=True)"
      ]
    },
    {
      "cell_type": "code",
      "execution_count": null,
      "metadata": {
        "colab": {
          "base_uri": "https://localhost:8080/"
        },
        "id": "ct_tUtEa7Dr1",
        "outputId": "f1aa283d-27d8-4140-b752-bc27579fa373"
      },
      "outputs": [
        {
          "output_type": "stream",
          "name": "stdout",
          "text": [
            "/content/gdrive/MyDrive\n"
          ]
        }
      ],
      "source": [
        "# navigate to gdrive home directory\n",
        "%cd gdrive/MyDrive\n"
      ]
    },
    {
      "cell_type": "code",
      "execution_count": null,
      "metadata": {
        "id": "TFAQeZ9MKnVV"
      },
      "outputs": [],
      "source": [
        "# set paths\n",
        "DIR_DATA_ORIGINAL = 'projet_radio_covid/COVID-19_Radiography_Dataset/'  # set to local path\n",
        "DIR_DATA = 'projet_radio_covid/data/'  \n",
        "\n",
        "LST_GROUP = ['covid', 'normal', 'viral', 'opac']\n",
        "LST_FOLDERS = ['COVID', 'Normal', 'Viral Pneumonia', 'Lung_Opacity']\n",
        "FNAME_MAPPER = dict(zip(LST_GROUP, LST_FOLDERS))\n",
        "LABEL_MAPPER = dict(zip(LST_GROUP, range(4)))\n",
        "\n",
        "DIRS = dict(zip(LST_GROUP, [os.path.join(DIR_DATA_ORIGINAL, folder) for folder in LST_FOLDERS]))\n",
        "DIR_IMAGES = dict(zip(LST_GROUP, [os.path.join(dir, 'images') for dir in DIRS.values()]))\n",
        "DIR_MASKS = dict(zip(LST_GROUP, [os.path.join(dir, 'masks') for dir in DIRS.values()]))\n",
        "\n",
        "NUM_ALL_IMG = [3616,10192,1345,6012]"
      ]
    },
    {
      "cell_type": "markdown",
      "metadata": {
        "id": "0WlPsBrHLMqX"
      },
      "source": [
        "# Utils"
      ]
    },
    {
      "cell_type": "markdown",
      "metadata": {
        "id": "graCJA6io8de"
      },
      "source": [
        "## Data Preprocessing utils"
      ]
    },
    {
      "cell_type": "code",
      "execution_count": null,
      "metadata": {
        "id": "hEFVMshRBit5"
      },
      "outputs": [],
      "source": [
        "# utils \n",
        "\n",
        "def get_fname(group, idx):\n",
        "  return(f\"{FNAME_MAPPER[group]}-{idx}.png\")\n",
        "\n",
        "def crop_black_border(image):\n",
        "  assert image.shape[0] == image.shape[1]\n",
        "  old_dim = image.shape[0]\n",
        "\n",
        "  mask = image!=0\n",
        "  mask_row = mask.any(0)\n",
        "  mask_col = mask.any(1)\n",
        "\n",
        "  row_range = old_dim - mask_row.argmax() - mask_row[::-1].argmax()\n",
        "  col_range = old_dim - mask_col.argmax() - mask_col[::-1].argmax() \n",
        "\n",
        "  if row_range < col_range:\n",
        "    top = mask_col.argmax()\n",
        "    bottom = old_dim - mask_col[::-1].argmax()\n",
        "    left = mask_row.argmax() - (col_range - row_range)//2\n",
        "    right = old_dim - mask_row[::-1].argmax() + (col_range - row_range)//2\n",
        "    if left < 0:\n",
        "      left, right = 0, col_range\n",
        "    elif right > old_dim:\n",
        "      left, right = old_dim - col_range, col_range\n",
        "  else:\n",
        "    left = mask_row.argmax()\n",
        "    right = old_dim - mask_row[::-1].argmax()\n",
        "    top = mask_col.argmax() - (row_range - col_range)//2\n",
        "    bottom = old_dim - mask_col[::-1].argmax() + (row_range - col_range)//2\n",
        "    if top < 0:\n",
        "      top, bottom = 0, row_range\n",
        "    elif bottom > old_dim:\n",
        "      top, bottom = old_dim - row_range, old_dim\n",
        "  return image[top:bottom, left:right]\n",
        "\n",
        "\n",
        "def normalize_intensity(img, mean=.2, min=0):\n",
        "  return(img/img.mean() * (mean - min) + min)\n",
        "  \n",
        "\n",
        "def get_str_param(dict_params):\n",
        "    \"\"\"\n",
        "    Transform a dictionary of parameters into a single string.\n",
        "    :param dict_params: dict: parameters of a function\n",
        "    :return: str: string of the parameters' name and value\n",
        "    \"\"\"\n",
        "    str_param = ''\n",
        "    if dict_params is None:\n",
        "      return \"default\"\n",
        "    else: \n",
        "      for key, value in dict_params.items():\n",
        "          if type(value) in [list, tuple]:  # convert list or tuple to str, using \"_\" to connect the elements\n",
        "              str_param += '_' + key + '_' + \"_\".join([str(v) for v in value]) if len(value) > 1 else value\n",
        "          else:\n",
        "              str_param += ('_' + key + '_' + str(value))\n",
        "      str_param = str_param.replace('True', 't')  # to make the string shorter: True -> t, False -> f\n",
        "      str_param = str_param.replace('False', 'f')\n",
        "      str_param = str_param.replace('.', 'd')  # replace dot of decimal by \"d\"\n",
        "      str_param = str_param.replace('e-', 'e')  # remove '-' in scientific notation e.g. 5.3e-3\n",
        "      str_param = str_param.replace(' ', '')\n",
        "      return str_param[1:].lower()"
      ]
    },
    {
      "cell_type": "code",
      "execution_count": null,
      "metadata": {
        "id": "gLE2baMQKsjl"
      },
      "outputs": [],
      "source": [
        "# preprocessing pipeline\n",
        "def pipeline_reverse_mask(groups=list, num_images=list, image_size=(50, 50), use_mask=True, \n",
        "             crop=False, flatten=False, normalize=False, path_output=None, **kwargs):\n",
        "  \"\"\"\n",
        "  Parameters\n",
        "  ------------\n",
        "  groups: list of categories (labels) of input data\n",
        "  num_images: list of number of images in each group. pass NUM_ALL_IMG to use all the images in current dataset.\n",
        "  image_size: tuple: the destinated size of each image. If none, the image will be 256*256. \n",
        "  use_mask: bool: whether apply the masks to the radio images.\n",
        "  crop: bool: whether crop the black border after applying mask. \n",
        "  flatten: bool: return the images as matrix if False; else, return flattened vectors.\n",
        "\n",
        "  Return:\n",
        "  ------------\n",
        "  X, y\n",
        "\n",
        "  \"\"\"\n",
        "  X = np.zeros((sum(num_images), 256, 256))\n",
        "  y = np.zeros(sum(num_images))\n",
        "  sum_num = 0\n",
        "\n",
        "  # load the images\n",
        "  print('image loading ...')\n",
        "  for group, num in zip(groups, num_images):\n",
        "    X[sum_num:(sum_num + num), :, :] = [resize(imread(os.path.join(DIR_IMAGES[group], get_fname(group, idx)), as_gray=True), (256, 256), anti_aliasing=True) \n",
        "    for idx in range(1, num + 1)]\n",
        "    y[sum_num:sum_num + num] = [LABEL_MAPPER[group]] * num\n",
        "    sum_num += num\n",
        "\n",
        "  # masking\n",
        "  if use_mask== \"reversed\":\n",
        "    print('mask loading ...')\n",
        "    masks = np.zeros((sum(num_images), 256, 256))\n",
        "    sum_num = 0\n",
        "    for group, num in zip(groups, num_images):\n",
        "      masks[sum_num:(sum_num + num), :, :] = [imread(os.path.join(DIR_MASKS[group], get_fname(group, idx)), as_gray=True)\n",
        "      for idx in range(1, num + 1)]\n",
        "      sum_num += num\n",
        "    X = X * (1- masks)\n",
        "  else:\n",
        "    raise ValueError('this pipeline is only for reversed mask')\n",
        "    \n",
        "  # crop the black border and resize\n",
        "  if crop:\n",
        "    print('border cropping ...')\n",
        "    X = np.array([resize(crop_black_border(image), image_size, anti_aliasing=True) for image in X])\n",
        "  else: \n",
        "    print('resizing ...')\n",
        "    X = resize(X, (X.shape[0], *image_size), anti_aliasing=True)\n",
        "\n",
        "  # normalize intensity\n",
        "  if normalize:\n",
        "    min_intensity = kwargs.get('min', 0)\n",
        "    mean_intensity = kwargs.get('mean', .2)\n",
        "    X = normalize_intensity(X, mean=mean_intensity, min=min_intensity)  # todo use min_max as option\n",
        "\n",
        "  if not flatten:\n",
        "    if path_output is not None:\n",
        "      for i, path in enumerate(path_output):\n",
        "        plt.imsave(path, X[i], cmap='gray')\n",
        "    else:\n",
        "      return X, y\n",
        "  else:\n",
        "    # reshape each image to 1-D vector\n",
        "    X = X.reshape(X.shape[0], -1)\n",
        "    if path_output is not None:\n",
        "      for i, path in enumerate(path_output):\n",
        "        with open(path, 'w') as fo:\n",
        "          json.dump(X[i].tolist(), fo)\n",
        "    else:\n",
        "      return X, y\n"
      ]
    },
    {
      "cell_type": "markdown",
      "metadata": {
        "id": "rFUa_GfCors-"
      },
      "source": [
        "## Model training utils"
      ]
    },
    {
      "cell_type": "code",
      "execution_count": null,
      "metadata": {
        "id": "HYDuLl9C6lVe"
      },
      "outputs": [],
      "source": [
        "# set paths\n",
        "DIR_OUTPUT = \"projet_radio_covid/results/\"\n",
        "\n",
        "def get_dir_pred(clf_name):\n",
        "  dir_pred = os.path.join(DIR_OUTPUT, 'pred_' + clf_name)\n",
        "  if not os.path.exists(dir_pred):\n",
        "    os.mkdir(dir_pred)\n",
        "    print(dir_pred, \"folder created\")\n",
        "  return dir_pred\n",
        "\n",
        "def get_path_metric(clf_name):\n",
        "  return os.path.join(DIR_OUTPUT, 'metrics_'+ clf_name + '.json')\n",
        "\n"
      ]
    },
    {
      "cell_type": "code",
      "execution_count": null,
      "metadata": {
        "id": "nvfyO0XrEA_w"
      },
      "outputs": [],
      "source": [
        "from sklearn.metrics import confusion_matrix, precision_score, recall_score, f1_score, accuracy_score, classification_report\n",
        "\n",
        "\n",
        "def save_pred(y_test, y_pred, clf_name, preprocess_params, clf_params):\n",
        "  \"\"\"\n",
        "  save the prediction results to google drive\n",
        "  \"\"\"\n",
        "  dir_pred = get_dir_pred(clf_name)\n",
        "  if not os.path.exists(os.path.join(dir_pred, get_str_param(preprocess_params))):\n",
        "    os.mkdir(os.path.join(dir_pred, get_str_param(preprocess_params)))\n",
        "  \n",
        "  pd.DataFrame({'y_test': y_test, 'y_pred': y_pred}).to_csv(\n",
        "      os.path.join(dir_pred, get_str_param(preprocess_params), get_str_param(clf_params) + '.txt'),\n",
        "      sep='\\t', header=True, index=False)\n",
        "  return None\n",
        "\n",
        "\n",
        "\n",
        "def get_metrics(y_test, y_pred, clf_params, preprocess_params):\n",
        "    \"\"\"\n",
        "    Get the metrics of interests and return them in a dictionary.\n",
        "    :param y_test: True values of the labels of the test set\n",
        "    :param y_pred: predicted labels of the test set\n",
        "    :param clf_params: dict: parameters of the classifier\n",
        "    :param preprocess_params: dict: parameters of the preprocessing\n",
        "    :return: evaluation metrics as a dictionary\n",
        "    \"\"\"\n",
        "    # Calculate the evaluation metrics\n",
        "    precision = precision_score(y_test, y_pred, average=None)\n",
        "    recall = recall_score(y_test, y_pred, average=None)\n",
        "    f1 = f1_score(y_test, y_pred, average=None)\n",
        "    accuracy = accuracy_score(y_test, y_pred)\n",
        "    confusion_matrix_array = confusion_matrix(y_test, y_pred)\n",
        "\n",
        "    # Store the metrics in a dictionary\n",
        "    results = {\n",
        "        'preprocess_params': get_str_param(preprocess_params),\n",
        "        \"clf_params\": get_str_param(clf_params),\n",
        "        \"precision\": precision.tolist(),\n",
        "        \"recall\": recall.tolist(),\n",
        "        \"f1\": f1.tolist(),\n",
        "        \"accuracy\": accuracy.tolist(),\n",
        "        \"confusion_matrix\": confusion_matrix_array.tolist()\n",
        "    }\n",
        "    \n",
        "    return results\n",
        "\n",
        "\n",
        "def save_metrics(y_test, y_pred, clf_name, preprocess_params, clf_params=None):\n",
        "  \"\"\"\n",
        "  get and save the metrics in google drive\n",
        "  \"\"\"\n",
        "  path_metric = get_path_metric(clf_name)\n",
        "  new_result = get_metrics(y_pred, y_test, clf_params, preprocess_params)\n",
        "\n",
        "  if not os.path.exists(path_metric):\n",
        "      print(\"new file\", path_metric, \"created\")\n",
        "      with open(path_metric, 'w') as fo:\n",
        "          json.dump({}, fo)\n",
        "\n",
        "  try:\n",
        "    with open(path_metric, 'r') as fi:\n",
        "        all_results = json.load(fi)\n",
        "  except:\n",
        "    all_results = {} \n",
        "\n",
        "  if all_results is None:\n",
        "    all_results = {}\n",
        "    \n",
        "  all_results.update({len(all_results): new_result})\n",
        "\n",
        "  with open(path_metric, 'w') as fo:\n",
        "      json.dump(all_results, fo)\n"
      ]
    },
    {
      "cell_type": "code",
      "execution_count": null,
      "metadata": {
        "id": "rLHJCqJRvoqu"
      },
      "outputs": [],
      "source": [
        "def load_summary_metrics(lst_clf_names, dct_clf_params, str_preprocess_param):\n",
        "  recall_covid = []\n",
        "  recall_sick = []\n",
        "  precision_normal = []\n",
        "  precision_non_covid = []\n",
        "  mean_recall = []\n",
        "  mean_precision = []\n",
        "  mean_f1 = []\n",
        "  accuracy = []\n",
        "\n",
        "  for clf_name in lst_clf_names:\n",
        "    try:\n",
        "      with open(get_path_metric(clf_name), 'r') as fi:\n",
        "        all_metrics = json.load(fi)\n",
        "    except:\n",
        "      print(clf_name, \"results are missing\")\n",
        "\n",
        "    metric = [value for key, value in all_metrics.items() if (value['preprocess_params'] == str_preprocess_param) and (value['clf_params'] == dct_clf_params[clf_name])]\n",
        "    if len(metric) == 0:\n",
        "      print(clf_name, \"results are missing for given parameters\")\n",
        "      break\n",
        "    else:\n",
        "      metric = metric[-1]\n",
        "    \n",
        "    recall_covid.append(metric['recall'][0])\n",
        "    recall_sick.append((metric['recall'][0]+ sum(metric['recall'][2:])) /3)\n",
        "    precision_non_covid.append(np.mean(metric['precision'][1:]))\n",
        "    precision_normal.append(metric['precision'][1])\n",
        "    mean_recall.append(np.mean(metric['recall']))\n",
        "    mean_precision.append(np.mean(metric['precision']))\n",
        "    mean_f1.append(np.mean(metric['f1']))\n",
        "    accuracy.append(metric['accuracy'])           \n",
        "\n",
        "  df_summary_metric = pd.DataFrame({\n",
        "      \"recall_covid\": recall_covid,\n",
        "      'recall_sick': recall_sick,\n",
        "      \"precision_non_covid\": precision_non_covid,\n",
        "      \"precision_normal\": precision_normal,\n",
        "      \"mean_recall\": mean_recall,\n",
        "      \"mean_precision\": mean_precision,\n",
        "      'mean_f1': mean_f1,\n",
        "      \"accuracy\": accuracy\n",
        "  }).T.round(2)\n",
        "  df_summary_metric.columns = lst_clf_names\n",
        "  return df_summary_metric\n"
      ]
    },
    {
      "cell_type": "markdown",
      "metadata": {
        "id": "a3dwACcIKMGR"
      },
      "source": [
        "# model training\n"
      ]
    },
    {
      "cell_type": "markdown",
      "metadata": {
        "id": "0kjGAeNKUEO0"
      },
      "source": [
        "## Baseline models"
      ]
    },
    {
      "cell_type": "markdown",
      "metadata": {
        "id": "f6ZjPJ-rIF-v"
      },
      "source": [
        "### Training"
      ]
    },
    {
      "cell_type": "code",
      "execution_count": null,
      "metadata": {
        "id": "D70fEhI3owH3"
      },
      "outputs": [],
      "source": [
        "# read and preprocess the images\n",
        "\n",
        "# images with masks\n",
        "baseline_prepro_params = {\n",
        "    'frac': 4,\n",
        "    'image_size': (128, 128),\n",
        "    'mask': 'reversed', \n",
        "    'crop': False,\n",
        "    'flatten': True,\n",
        "    'normalize': False,\n",
        "    'pca': 0.9\n",
        "}\n",
        "\n",
        "# # images without masks\n",
        "# baseline_prepro_params = {\n",
        "#     'frac': 4,\n",
        "#     'image_size': (128, 128),\n",
        "#     'mask': False, \n",
        "#     'crop': False,\n",
        "#     'flatten': True,\n",
        "#     'normalize': False,\n",
        "#     'pca': 0.9\n",
        "# }"
      ]
    },
    {
      "cell_type": "code",
      "execution_count": null,
      "metadata": {
        "colab": {
          "base_uri": "https://localhost:8080/"
        },
        "id": "f3g20ZORKvEY",
        "outputId": "279cbd86-6b20-4afa-e2a1-ce2c4adef4aa"
      },
      "outputs": [
        {
          "name": "stdout",
          "output_type": "stream",
          "text": [
            "image loading ...\n",
            "mask loading ...\n",
            "border cropping ...\n",
            "loading and preprocessing time 2649 s, i.e. 44 min\n"
          ]
        }
      ],
      "source": [
        "# load and preprocess data by pipeline\n",
        "t0 = time.time()\n",
        "X, y = pipeline_reverse_mask(\n",
        "    groups=LST_GROUP, \n",
        "    num_images=np.array(NUM_ALL_IMG) // baseline_prepro_params['frac'],   # pass NUM_ALL_IMG to use all the images.\n",
        "    image_size=baseline_prepro_params['image_size'],\n",
        "    use_mask=baseline_prepro_params['mask'],\n",
        "    crop=baseline_prepro_params['crop'], \n",
        "    flatten=baseline_prepro_params['flatten'],\n",
        "    normalize=baseline_prepro_params['normalize']\n",
        "    )\n",
        "print(\"loading and preprocessing time\", round(time.time() - t0), 's, i.e.', round((time.time() - t0)/60), 'min')\n"
      ]
    },
    {
      "cell_type": "code",
      "source": [
        "plt.figure(figsize=(2, 2))\n",
        "imshow(X[0].reshape(128, 128));"
      ],
      "metadata": {
        "colab": {
          "base_uri": "https://localhost:8080/",
          "height": 200
        },
        "id": "G9OX_lDcbDw6",
        "outputId": "11b484db-e6ce-4bc9-959d-3d1192008c93"
      },
      "execution_count": null,
      "outputs": [
        {
          "output_type": "display_data",
          "data": {
            "text/plain": [
              "<Figure size 200x200 with 1 Axes>"
            ],
            "image/png": "[encoded data removed]"
          },
          "metadata": {}
        }
      ]
    },
    {
      "cell_type": "code",
      "execution_count": null,
      "metadata": {
        "id": "-EXrp4P26QxI"
      },
      "outputs": [],
      "source": [
        "# data split\n",
        "X_train, X_test, y_train, y_test = train_test_split(X, y, test_size=0.2, random_state=23, shuffle=True, stratify=y)"
      ]
    },
    {
      "cell_type": "code",
      "execution_count": null,
      "metadata": {
        "colab": {
          "base_uri": "https://localhost:8080/"
        },
        "id": "-SXIf--eszDe",
        "outputId": "ca608730-4e05-4ad9-c174-9216b05ad231"
      },
      "outputs": [
        {
          "name": "stdout",
          "output_type": "stream",
          "text": [
            "pca time 99 s, i.e. 2 min\n"
          ]
        }
      ],
      "source": [
        "# pca \n",
        "if baseline_prepro_params['pca'] is not None: \n",
        "  t0 = time.time()\n",
        "  pca = PCA(n_components = baseline_prepro_params['pca'])  \n",
        "  X_train = pca.fit_transform(X_train)\n",
        "  X_test = pca.transform(X_test)\n",
        "  print(\"pca time\", round(time.time() - t0), 's, i.e.', round((time.time() - t0)/60), 'min')\n"
      ]
    },
    {
      "cell_type": "code",
      "execution_count": null,
      "metadata": {
        "id": "oTp1YUrYDC2M"
      },
      "outputs": [],
      "source": [
        "# Logistic Regression\n",
        "\n",
        "clf_name = \"lr\"\n",
        "\n",
        "from sklearn.linear_model import LogisticRegression\n",
        "\n",
        "lr_params = {'multi_class': 'multinomial', 'solver': 'lbfgs', 'penalty': 'l2', 'C': 1.0, 'max_iter': 2000}\n",
        "\n",
        "logreg = LogisticRegression()\n",
        "logreg.set_params(**lr_params)\n",
        "logreg.fit(X_train, y_train)\n",
        "y_pred = logreg.predict(X_test)\n",
        "save_pred(y_test, y_pred, clf_name, baseline_prepro_params, clf_params=lr_params)\n",
        "save_metrics(y_test, y_pred, clf_name, baseline_prepro_params, clf_params=lr_params)"
      ]
    },
    {
      "cell_type": "code",
      "execution_count": null,
      "metadata": {
        "id": "eGN0Wlkgst9A"
      },
      "outputs": [],
      "source": [
        "# SVM\n",
        "clf_name = 'svm'\n",
        "from sklearn.svm import SVC\n",
        "\n",
        "svc_params = {\"C\": 10, 'kernel': 'rbf', 'gamma': 'scale', 'class_weight': 'balanced'}\n",
        "\n",
        "svc = SVC()    #C=1 par défaut, kernel=rbf' par défaut, gamma='scale' par défaut (sauf pour linear)\n",
        "svc.set_params(**svc_params)\n",
        "svc.fit(X_train, y_train)\n",
        "y_pred=svc.predict(X_test)\n",
        "\n",
        "clf_params = {'kernel': 'linear'}\n",
        "save_pred(y_test, y_pred, clf_name, baseline_prepro_params, clf_params=svc_params)\n",
        "save_metrics(y_test, y_pred, clf_name, baseline_prepro_params, clf_params=svc_params)\n"
      ]
    },
    {
      "cell_type": "code",
      "execution_count": null,
      "metadata": {
        "id": "Ok3Y2wfz6T_t"
      },
      "outputs": [],
      "source": [
        "# random forest\n",
        "clf_name = \"rf\"\n",
        "\n",
        "from sklearn import ensemble\n",
        "rf_params = {'max_depth': None, 'min_samples_leaf': 1, 'min_samples_split': 2, 'n_estimators': 300}\n",
        "rf = ensemble.RandomForestClassifier(n_jobs=-1, random_state=23)\n",
        "rf.set_params(**rf_params)\n",
        "rf.fit(X_train, y_train)\n",
        "y_pred = rf.predict(X_test)\n",
        "\n",
        "save_pred(y_test, y_pred, clf_name, baseline_prepro_params, clf_params=rf_params)\n",
        "save_metrics(y_test, y_pred, clf_name, baseline_prepro_params, clf_params=rf_params)\n"
      ]
    },
    {
      "cell_type": "code",
      "execution_count": null,
      "metadata": {
        "colab": {
          "background_save": true
        },
        "id": "gPskx3P7K9dH"
      },
      "outputs": [],
      "source": [
        "# Gradient Boosting\n",
        "\n",
        "clf_name = \"gb\"\n",
        "\n",
        "gb = ensemble.GradientBoostingClassifier()\n",
        "gb_params =  {'learning_rate': 0.1, 'max_depth': 5, 'min_samples_leaf': 2, 'min_samples_split': 2, 'n_estimators': 300}\n",
        "gb.set_params(**gb_params)\n",
        "gb.fit(X_train, y_train)\n",
        "y_pred = gb.predict(X_test)\n",
        "\n",
        "save_pred(y_test, y_pred, clf_name, baseline_prepro_params, clf_params=gb_params)\n",
        "save_metrics(y_test, y_pred, clf_name, baseline_prepro_params, clf_params=gb_params)\n"
      ]
    },
    {
      "cell_type": "code",
      "execution_count": null,
      "metadata": {
        "id": "kxrvx71Wtebe"
      },
      "outputs": [],
      "source": [
        "lr_params = {'multi_class': 'multinomial', 'solver': 'lbfgs', 'penalty': 'l2', 'C': 1.0, 'max_iter': 2000}\n",
        "svc_params = {\"C\": 10, 'kernel': 'rbf', 'gamma': 'scale', 'class_weight': 'balanced'}\n",
        "rf_params = {'max_depth': None, 'min_samples_leaf': 1, 'min_samples_split': 2, 'n_estimators': 300}\n",
        "gb_params =  {'learning_rate': 0.1, 'max_depth': 5, 'min_samples_leaf': 2, 'min_samples_split': 2, 'n_estimators': 300}\n",
        "\n",
        "# load the results\n",
        "lst_clf_names = [\"lr\", \"svm\", \"rf\", \"gb\"]\n",
        "dct_clf_params = {\n",
        "    \"lr\": get_str_param(lr_params),\n",
        "    \"svm\": get_str_param(svc_params),  \n",
        "    \"rf\": get_str_param(rf_params),\n",
        "    \"gb\": get_str_param(gb_params), \n",
        "}\n",
        "\n",
        "df_metric_baseline_reversed_mask = load_summary_metrics(lst_clf_names, dct_clf_params, \"frac_4_image_size_128_128_mask_reversed_crop_t_flatten_t_normalize_f_pca_0d9\")\n",
        "\n",
        "# todo crop should be false \n",
        "\n"
      ]
    },
    {
      "cell_type": "markdown",
      "metadata": {
        "id": "DF-RD394IN_1"
      },
      "source": [
        "### Results"
      ]
    },
    {
      "cell_type": "code",
      "execution_count": null,
      "metadata": {
        "id": "dlVfI825wAmB",
        "colab": {
          "base_uri": "https://localhost:8080/",
          "height": 300
        },
        "outputId": "6059a0ee-1af3-4140-cac7-b857910166ac"
      },
      "outputs": [
        {
          "output_type": "execute_result",
          "data": {
            "text/plain": [
              "                       lr   svm    rf    gb\n",
              "recall_covid         0.66  0.73  0.87  0.76\n",
              "recall_sick          0.66  0.79  0.82  0.78\n",
              "precision_non_covid  0.75  0.82  0.60  0.70\n",
              "precision_normal     0.78  0.84  0.87  0.83\n",
              "mean_recall          0.69  0.81  0.79  0.79\n",
              "mean_precision       0.69  0.80  0.57  0.68\n",
              "mean_f1              0.69  0.80  0.61  0.72\n",
              "accuracy             0.71  0.81  0.71  0.76"
            ],
            "text/html": [
              "\n",
              "  <div id=\"df-e536f057-15ee-487c-9721-34544aa77c78\">\n",
              "    <div class=\"colab-df-container\">\n",
              "      <div>\n",
              "<style scoped>\n",
              "    .dataframe tbody tr th:only-of-type {\n",
              "        vertical-align: middle;\n",
              "    }\n",
              "\n",
              "    .dataframe tbody tr th {\n",
              "        vertical-align: top;\n",
              "    }\n",
              "\n",
              "    .dataframe thead th {\n",
              "        text-align: right;\n",
              "    }\n",
              "</style>\n",
              "<table border=\"1\" class=\"dataframe\">\n",
              "  <thead>\n",
              "    <tr style=\"text-align: right;\">\n",
              "      <th></th>\n",
              "      <th>lr</th>\n",
              "      <th>svm</th>\n",
              "      <th>rf</th>\n",
              "      <th>gb</th>\n",
              "    </tr>\n",
              "  </thead>\n",
              "  <tbody>\n",
              "    <tr>\n",
              "      <th>recall_covid</th>\n",
              "      <td>0.66</td>\n",
              "      <td>0.73</td>\n",
              "      <td>0.87</td>\n",
              "      <td>0.76</td>\n",
              "    </tr>\n",
              "    <tr>\n",
              "      <th>recall_sick</th>\n",
              "      <td>0.66</td>\n",
              "      <td>0.79</td>\n",
              "      <td>0.82</td>\n",
              "      <td>0.78</td>\n",
              "    </tr>\n",
              "    <tr>\n",
              "      <th>precision_non_covid</th>\n",
              "      <td>0.75</td>\n",
              "      <td>0.82</td>\n",
              "      <td>0.60</td>\n",
              "      <td>0.70</td>\n",
              "    </tr>\n",
              "    <tr>\n",
              "      <th>precision_normal</th>\n",
              "      <td>0.78</td>\n",
              "      <td>0.84</td>\n",
              "      <td>0.87</td>\n",
              "      <td>0.83</td>\n",
              "    </tr>\n",
              "    <tr>\n",
              "      <th>mean_recall</th>\n",
              "      <td>0.69</td>\n",
              "      <td>0.81</td>\n",
              "      <td>0.79</td>\n",
              "      <td>0.79</td>\n",
              "    </tr>\n",
              "    <tr>\n",
              "      <th>mean_precision</th>\n",
              "      <td>0.69</td>\n",
              "      <td>0.80</td>\n",
              "      <td>0.57</td>\n",
              "      <td>0.68</td>\n",
              "    </tr>\n",
              "    <tr>\n",
              "      <th>mean_f1</th>\n",
              "      <td>0.69</td>\n",
              "      <td>0.80</td>\n",
              "      <td>0.61</td>\n",
              "      <td>0.72</td>\n",
              "    </tr>\n",
              "    <tr>\n",
              "      <th>accuracy</th>\n",
              "      <td>0.71</td>\n",
              "      <td>0.81</td>\n",
              "      <td>0.71</td>\n",
              "      <td>0.76</td>\n",
              "    </tr>\n",
              "  </tbody>\n",
              "</table>\n",
              "</div>\n",
              "      <button class=\"colab-df-convert\" onclick=\"convertToInteractive('df-e536f057-15ee-487c-9721-34544aa77c78')\"\n",
              "              title=\"Convert this dataframe to an interactive table.\"\n",
              "              style=\"display:none;\">\n",
              "        \n",
              "  <svg xmlns=\"http://www.w3.org/2000/svg\" height=\"24px\"viewBox=\"0 0 24 24\"\n",
              "       width=\"24px\">\n",
              "    <path d=\"M0 0h24v24H0V0z\" fill=\"none\"/>\n",
              "    <path d=\"M18.56 5.44l.94 2.06.94-2.06 2.06-.94-2.06-.94-.94-2.06-.94 2.06-2.06.94zm-11 1L8.5 8.5l.94-2.06 2.06-.94-2.06-.94L8.5 2.5l-.94 2.06-2.06.94zm10 10l.94 2.06.94-2.06 2.06-.94-2.06-.94-.94-2.06-.94 2.06-2.06.94z\"/><path d=\"M17.41 7.96l-1.37-1.37c-.4-.4-.92-.59-1.43-.59-.52 0-1.04.2-1.43.59L10.3 9.45l-7.72 7.72c-.78.78-.78 2.05 0 2.83L4 21.41c.39.39.9.59 1.41.59.51 0 1.02-.2 1.41-.59l7.78-7.78 2.81-2.81c.8-.78.8-2.07 0-2.86zM5.41 20L4 18.59l7.72-7.72 1.47 1.35L5.41 20z\"/>\n",
              "  </svg>\n",
              "      </button>\n",
              "      \n",
              "  <style>\n",
              "    .colab-df-container {\n",
              "      display:flex;\n",
              "      flex-wrap:wrap;\n",
              "      gap: 12px;\n",
              "    }\n",
              "\n",
              "    .colab-df-convert {\n",
              "      background-color: #E8F0FE;\n",
              "      border: none;\n",
              "      border-radius: 50%;\n",
              "      cursor: pointer;\n",
              "      display: none;\n",
              "      fill: #1967D2;\n",
              "      height: 32px;\n",
              "      padding: 0 0 0 0;\n",
              "      width: 32px;\n",
              "    }\n",
              "\n",
              "    .colab-df-convert:hover {\n",
              "      background-color: #E2EBFA;\n",
              "      box-shadow: 0px 1px 2px rgba(60, 64, 67, 0.3), 0px 1px 3px 1px rgba(60, 64, 67, 0.15);\n",
              "      fill: #174EA6;\n",
              "    }\n",
              "\n",
              "    [theme=dark] .colab-df-convert {\n",
              "      background-color: #3B4455;\n",
              "      fill: #D2E3FC;\n",
              "    }\n",
              "\n",
              "    [theme=dark] .colab-df-convert:hover {\n",
              "      background-color: #434B5C;\n",
              "      box-shadow: 0px 1px 3px 1px rgba(0, 0, 0, 0.15);\n",
              "      filter: drop-shadow(0px 1px 2px rgba(0, 0, 0, 0.3));\n",
              "      fill: #FFFFFF;\n",
              "    }\n",
              "  </style>\n",
              "\n",
              "      <script>\n",
              "        const buttonEl =\n",
              "          document.querySelector('#df-e536f057-15ee-487c-9721-34544aa77c78 button.colab-df-convert');\n",
              "        buttonEl.style.display =\n",
              "          google.colab.kernel.accessAllowed ? 'block' : 'none';\n",
              "\n",
              "        async function convertToInteractive(key) {\n",
              "          const element = document.querySelector('#df-e536f057-15ee-487c-9721-34544aa77c78');\n",
              "          const dataTable =\n",
              "            await google.colab.kernel.invokeFunction('convertToInteractive',\n",
              "                                                     [key], {});\n",
              "          if (!dataTable) return;\n",
              "\n",
              "          const docLinkHtml = 'Like what you see? Visit the ' +\n",
              "            '<a target=\"_blank\" href=https://colab.research.google.com/notebooks/data_table.ipynb>data table notebook</a>'\n",
              "            + ' to learn more about interactive tables.';\n",
              "          element.innerHTML = '';\n",
              "          dataTable['output_type'] = 'display_data';\n",
              "          await google.colab.output.renderOutput(dataTable, element);\n",
              "          const docLink = document.createElement('div');\n",
              "          docLink.innerHTML = docLinkHtml;\n",
              "          element.appendChild(docLink);\n",
              "        }\n",
              "      </script>\n",
              "    </div>\n",
              "  </div>\n",
              "  "
            ]
          },
          "metadata": {},
          "execution_count": 16
        }
      ],
      "source": [
        "df_metric_baseline_reversed_mask"
      ]
    },
    {
      "cell_type": "code",
      "source": [
        "## graph format version Isa\n",
        "\n",
        "import matplotlib.ticker as mticker\n",
        "label_format = '{:,.0%}'\n",
        "ax1 = df_metric_baseline_reversed_mask.plot.bar(figsize=(16, 4), ylabel='Percentage', width=0.85, align = 'center')\n",
        "ax1.set_xticklabels(ax1.get_xticklabels(), rotation=30)\n",
        "for p in ax1.patches:\n",
        "    ax1.annotate(f'{p.get_height():0.2f}', (p.get_x() + p.get_width() / 2., p.get_height()),\n",
        "                 ha = 'center', va = 'center', \n",
        "                 xytext = (0, 8), \n",
        "                 textcoords = 'offset points', \n",
        "                 fontsize=9)\n",
        "ax1.tick_params(axis='x', labelsize=12, rotation=30)\n",
        "ax1.tick_params(axis='y', labelsize=12)\n",
        "ax1.set_ylim(0.4,1.0)\n",
        "ax1.legend(loc='center left', bbox_to_anchor=(1.0, 0.5), fontsize=14)\n",
        "ax1.set_title('Evaluation of model prediction using images without lung zone (reversed mask)')\n"
      ],
      "metadata": {
        "colab": {
          "base_uri": "https://localhost:8080/",
          "height": 493
        },
        "id": "snfzHTrJxCtR",
        "outputId": "99e43a69-811f-4f42-a05f-5b7a18ac994d"
      },
      "execution_count": null,
      "outputs": [
        {
          "output_type": "execute_result",
          "data": {
            "text/plain": [
              "Text(0.5, 1.0, 'Evaluation of model prediction using images without lung zone (reversed mask)')"
            ]
          },
          "metadata": {},
          "execution_count": 17
        },
        {
          "output_type": "display_data",
          "data": {
            "text/plain": [
              "<Figure size 1600x400 with 1 Axes>"
            ],
            "image/png": "[encoded data removed]"
          },
          "metadata": {}
        }
      ]
    }
  ],
  "metadata": {
    "colab": {
      "toc_visible": true,
      "provenance": [],
      "collapsed_sections": [
        "rFUa_GfCors-"
      ]
    },
    "kernelspec": {
      "display_name": "Python 3",
      "name": "python3"
    },
    "language_info": {
      "name": "python"
    }
  },
  "nbformat": 4,
  "nbformat_minor": 0
}