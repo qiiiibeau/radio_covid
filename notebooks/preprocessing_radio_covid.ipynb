{
  "nbformat": 4,
  "nbformat_minor": 0,
  "metadata": {
    "colab": {
      "provenance": []
    },
    "kernelspec": {
      "name": "python3",
      "display_name": "Python 3"
    },
    "language_info": {
      "name": "python"
    }
  },
  "cells": [
    {
      "cell_type": "code",
      "execution_count": 1,
      "metadata": {
        "id": "94154be5-33ad-4e22-8f46-8cf1a9105738"
      },
      "outputs": [],
      "source": [
        "import os\n",
        "import random\n",
        "\n",
        "import numpy as np\n",
        "import pandas as pd\n",
        "import matplotlib.pyplot as plt\n",
        "%matplotlib inline\n",
        "import seaborn as sns\n",
        "\n",
        "from skimage.io import imread, imshow\n",
        "from skimage.transform import resize\n",
        "\n",
        "from sklearn.model_selection import train_test_split\n",
        "from sklearn.decomposition import PCA\n",
        "from sklearn.preprocessing import StandardScaler, MinMaxScaler\n"
      ]
    },
    {
      "cell_type": "code",
      "source": [
        "# authorize access to google drive\n",
        "from google.colab import drive\n",
        "drive.mount('/content/gdrive/', force_remount=True)"
      ],
      "metadata": {
        "colab": {
          "base_uri": "https://localhost:8080/"
        },
        "id": "DYLBJUWG03DC",
        "outputId": "6d6cdd97-540b-41b1-b15d-255290539fdc"
      },
      "execution_count": 2,
      "outputs": [
        {
          "output_type": "stream",
          "name": "stdout",
          "text": [
            "Mounted at /content/gdrive/\n"
          ]
        }
      ]
    },
    {
      "cell_type": "code",
      "execution_count": 3,
      "metadata": {
        "id": "5VjKc2NQ6KQA",
        "colab": {
          "base_uri": "https://localhost:8080/"
        },
        "outputId": "4ba8c9dd-324c-4e45-f6c9-731844f1a9d8"
      },
      "outputs": [
        {
          "output_type": "stream",
          "name": "stdout",
          "text": [
            "/content/gdrive/MyDrive\n"
          ]
        }
      ],
      "source": [
        "# navigate to gdrive home directory\n",
        "%cd gdrive/MyDrive\n",
        "\n",
        "# set paths\n",
        "dir_data = 'projet_radio_covid/COVID-19_Radiography_Dataset/'  # set to local path\n",
        "\n",
        "lst_group = ['covid', 'normal', 'viral', 'opac']\n",
        "lst_folders = ['COVID', 'Normal', 'Viral Pneumonia', 'Lung_Opacity']\n",
        "mapper_fname = dict(zip(lst_group, lst_folders))\n",
        "label_mapper = dict(zip(lst_group, range(4)))\n",
        "\n",
        "DIRS = dict(zip(lst_group, [os.path.join(dir_data, folder) for folder in lst_folders]))\n",
        "DIR_IMAGES = dict(zip(lst_group, [os.path.join(dir, 'images') for dir in DIRS.values()]))\n",
        "DIR_MASKS = dict(zip(lst_group, [os.path.join(dir, 'masks') for dir in DIRS.values()]))\n",
        "\n",
        "NUM_ALL_IMG = [3616, 10192, 1345, 6012]"
      ]
    },
    {
      "cell_type": "code",
      "source": [
        "def get_fname(group, idx):\n",
        "  return(f\"{mapper_fname[group]}-{idx}.png\")\n",
        "\n",
        "\n",
        "def crop_black_border(image):\n",
        "  assert image.shape[0] == image.shape[1]\n",
        "  old_dim = image.shape[0]\n",
        "\n",
        "  mask = image!=0\n",
        "  mask_row = mask.any(0)\n",
        "  mask_col = mask.any(1)\n",
        "\n",
        "  row_range = old_dim - mask_row.argmax() - mask_row[::-1].argmax()\n",
        "  col_range = old_dim - mask_col.argmax() - mask_col[::-1].argmax() \n",
        "\n",
        "  if row_range < col_range:\n",
        "    top = mask_col.argmax()\n",
        "    bottom = old_dim - mask_col[::-1].argmax()\n",
        "    left = mask_row.argmax() - (col_range - row_range)//2\n",
        "    right = old_dim - mask_row[::-1].argmax() + (col_range - row_range)//2\n",
        "    if left < 0:\n",
        "      left, right = 0, col_range\n",
        "    elif right > old_dim:\n",
        "      left, right = old_dim - col_range, col_range\n",
        "  else:\n",
        "    left = mask_row.argmax()\n",
        "    right = old_dim - mask_row[::-1].argmax()\n",
        "    top = mask_col.argmax() - (row_range - col_range)//2\n",
        "    bottom = old_dim - mask_col[::-1].argmax() + (row_range - col_range)//2\n",
        "    if top < 0:\n",
        "      top, bottom = 0, row_range\n",
        "    elif bottom > old_dim:\n",
        "      top, bottom = old_dim - row_range, old_dim\n",
        "  return image[top:bottom, left:right]\n",
        "\n",
        "\n",
        "def normalize_intensity(img, mean=.2, min=0):\n",
        "  return(img/img.mean() * (mean - min) + min)\n",
        "\n",
        "\n",
        "def pipeline(groups=list, num_images=list, image_size=(50, 50), use_mask=True, \n",
        "             crop=True, output_type='matrix', **kwargs):\n",
        "  \"\"\"\n",
        "  Parameters\n",
        "  ------------\n",
        "  groups: list of categories (labels) of input data\n",
        "  num_images: list of number of images in each group. pass NUM_ALL_IMG to use all the images in current dataset.\n",
        "  image_size: tuple: the destinated size of each image. If none, the image will be 256*256. \n",
        "  use_mask: bool: whether apply the masks to the radio images.\n",
        "  crop: bool: whether crop the black border after applying mask. \n",
        "  output_type: 'matrix' or 'vector', the output type of an image\n",
        "\n",
        "  Return:\n",
        "  ------------\n",
        "  X_train\n",
        "  X_test\n",
        "  y_train\n",
        "  y_test\n",
        "  todo \n",
        "\n",
        "  \"\"\"\n",
        "  X = np.zeros((sum(num_images), 256, 256))\n",
        "  y = np.zeros(sum(num_images))\n",
        "  sum_num = 0\n",
        "\n",
        "  # load the images\n",
        "  print('image loading ...')\n",
        "  for group, num in zip(groups, num_images):\n",
        "    X[sum_num:(sum_num + num), :, :] = [resize(imread(os.path.join(DIR_IMAGES[group], get_fname(group, idx)), as_gray=True), (256, 256), anti_aliasing=True) \n",
        "    for idx in range(1, num + 1)]\n",
        "    y[sum_num:sum_num + num] = [label_mapper[group]] * num\n",
        "    sum_num += num\n",
        "\n",
        "  # masking\n",
        "  if use_mask:\n",
        "    print('mask loading ...')\n",
        "    masks = np.zeros((sum(num_images), 256, 256))\n",
        "    sum_num = 0\n",
        "    for group, num in zip(groups, num_images):\n",
        "      masks[sum_num:(sum_num + num), :, :] = [imread(os.path.join(DIR_MASKS[group], get_fname(group, idx)), as_gray=True)\n",
        "      for idx in range(1, num + 1)]\n",
        "      sum_num += num\n",
        "    X = X * masks\n",
        "    \n",
        "  # crop the black border and resize\n",
        "  if crop:\n",
        "    print('border cropping ...')\n",
        "    X = np.array([resize(crop_black_border(image), image_size, anti_aliasing=True) for image in X])\n",
        "  else: \n",
        "    print('resizing ...')\n",
        "    X = resize(X, (X.shape[0], *image_size), anti_aliasing=True)\n",
        "\n",
        "  # normalize intensity\n",
        "  if kwargs.get('normalize', False):\n",
        "    min_intensity = kwargs.get('min', 0)\n",
        "    mean_intensity = kwargs.get('mean', .2)\n",
        "    X = normalize_intensity(X, mean=mean_intensity, min=min_intensity)  # todo use min_max as option\n",
        "\n",
        "  # data split\n",
        "  X_train, X_test, y_train, y_test = train_test_split(X, y, test_size=0.2, random_state=23, shuffle=True, stratify=y)\n",
        "  \n",
        "  if output_type == 'matrix':\n",
        "    return X_train, X_test, y_train, y_test\n",
        "  elif output_type == 'vector':\n",
        "    # reshape each image to 1-D vector\n",
        "    X_train, X_test = X_train.reshape(X_train.shape[0], -1), X_test.reshape(X_test.shape[0], -1)\n",
        "\n",
        "    plt.subplot(221)\n",
        "    imshow(X_test[1].reshape(image_size))\n",
        "    plt.subplot(222)\n",
        "    plt.plot(np.histogram(X_test[1])[0])\n",
        "\n",
        "    # dimensionality reduction\n",
        "    dim_vec = kwargs.get('dim')\n",
        "    assert dim_vec <= X_train.shape[1] \n",
        "    if dim_vec == X_train.shape[1]:\n",
        "      return X_train, X_test, y_train, y_test\n",
        "    else: \n",
        "      print(\"dimensionality reduction by PCA ...\")\n",
        "      pca = PCA(n_components = dim_vec)\n",
        "      X_train_pca = pca.fit_transform(X_train)\n",
        "      X_test_pca = pca.transform(X_test)\n",
        "      return X_train_pca, X_test_pca, y_train, y_test\n"
      ],
      "metadata": {
        "id": "VPUs6uxQNYIa"
      },
      "execution_count": 4,
      "outputs": []
    },
    {
      "cell_type": "code",
      "source": [
        "# example 1: test with 10 images per category, do not apply intensity normalization, resize image to 50 * 50 then use PCA to reduce dimension to 10.\n",
        "X_train, X_test, y_train, y_test = pipeline(\n",
        "    groups=lst_group, \n",
        "    num_images=[10, 10, 10, 10],   # pass NUM_ALL_IMG to use all the images.\n",
        "    image_size=(50, 50), \n",
        "    use_mask=True, \n",
        "    crop=True, \n",
        "    output_type='vector', \n",
        "    dim=10\n",
        "    )   \n",
        "\n",
        "print('\\nshapes of X_train, X_test, y_train, y_test:')\n",
        "print(X_train.shape, X_test.shape, y_train.shape, y_test.shape)\n",
        "print('\\nexample of a sample in X_test:')\n",
        "print(X_test[0])\n",
        "print('\\ny_test:')\n",
        "print(y_test)\n"
      ],
      "metadata": {
        "id": "1WlsrPQw1Qq7",
        "colab": {
          "base_uri": "https://localhost:8080/",
          "height": 412
        },
        "outputId": "3c5d4ad7-7a73-4c81-ded6-cc5b841e462f"
      },
      "execution_count": 10,
      "outputs": [
        {
          "output_type": "stream",
          "name": "stdout",
          "text": [
            "image loading ...\n",
            "mask loading ...\n",
            "border cropping ...\n",
            "dimensionality reduction by PCA ...\n",
            "\n",
            "shapes of X_train, X_test, y_train, y_test:\n",
            "(32, 10) (8, 10) (32,) (8,)\n",
            "\n",
            "example of a sample in X_test:\n",
            "[ 0.64332315 -4.47890536 -1.58840761 -0.20096262 -0.30138344  0.43593132\n",
            " -0.61463366 -0.03265646 -0.40704231 -0.63946708]\n",
            "\n",
            "y_test:\n",
            "[2. 0. 0. 3. 2. 1. 1. 3.]\n"
          ]
        },
        {
          "output_type": "display_data",
          "data": {
            "text/plain": [
              "<Figure size 432x288 with 2 Axes>"
            ],
            "image/png": "[encoded data removed]"
          },
          "metadata": {
            "needs_background": "light"
          }
        }
      ]
    },
    {
      "cell_type": "code",
      "source": [
        "# example 2: test with 10 images per category, applying intensity normalization, output as image of size 50*50. \n",
        "X_train, X_test, y_train, y_test = pipeline(\n",
        "    groups=lst_group, \n",
        "    num_images=[10, 10, 10, 10],   # pass NUM_ALL_IMG to use all the images.\n",
        "    image_size=(50, 50), \n",
        "    use_mask=True, \n",
        "    crop=True, \n",
        "    output_type='matrix', \n",
        "    normalize=True\n",
        "    )   \n",
        "\n",
        "print('\\nshapes of X_train, X_test, y_train, y_test:')\n",
        "print(X_train.shape, X_test.shape, y_train.shape, y_test.shape)\n",
        "print('\\nexample of a sample in X_test:')\n",
        "print(X_test[0])\n",
        "print('\\ny_test:')\n",
        "print(y_test)\n"
      ],
      "metadata": {
        "colab": {
          "base_uri": "https://localhost:8080/"
        },
        "id": "lIqxoYHo1UMo",
        "outputId": "0fbe1c6c-a0b9-4c63-8155-e7ffdd6f29ba"
      },
      "execution_count": 11,
      "outputs": [
        {
          "output_type": "stream",
          "name": "stdout",
          "text": [
            "image loading ...\n",
            "mask loading ...\n",
            "border cropping ...\n",
            "\n",
            "shapes of X_train, X_test, y_train, y_test:\n",
            "(32, 50, 50) (8, 50, 50) (32,) (8,)\n",
            "\n",
            "example of a sample in X_test:\n",
            "[[0.         0.         0.         ... 0.         0.         0.        ]\n",
            " [0.         0.         0.         ... 0.         0.         0.        ]\n",
            " [0.         0.         0.         ... 0.         0.         0.        ]\n",
            " ...\n",
            " [0.         0.         0.         ... 0.5282964  0.3612665  0.0142589 ]\n",
            " [0.         0.         0.         ... 0.42964011 0.35373077 0.01341068]\n",
            " [0.         0.         0.         ... 0.1867862  0.26589663 0.0079592 ]]\n",
            "\n",
            "y_test:\n",
            "[2. 0. 0. 3. 2. 1. 1. 3.]\n"
          ]
        }
      ]
    }
  ]
}